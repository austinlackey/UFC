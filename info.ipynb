{
 "cells": [
  {
   "cell_type": "code",
   "execution_count": 1,
   "metadata": {},
   "outputs": [],
   "source": [
    "import pandas as pd\n",
    "import numpy as np"
   ]
  },
  {
   "cell_type": "code",
   "execution_count": 2,
   "metadata": {},
   "outputs": [],
   "source": [
    "fighters = pd.read_csv('Raw Data/fighters.csv')\n",
    "fightInformation = pd.read_csv('Raw Data/fightInformation.csv')\n",
    "fightRounds = pd.read_csv('Raw Data/fightRounds.csv')"
   ]
  },
  {
   "cell_type": "code",
   "execution_count": 10,
   "metadata": {},
   "outputs": [
    {
     "name": "stdout",
     "output_type": "stream",
     "text": [
      "(2934, 39)\n",
      "(7320, 16)\n",
      "(34218, 19)\n"
     ]
    },
    {
     "data": {
      "text/html": [
       "<div>\n",
       "<style scoped>\n",
       "    .dataframe tbody tr th:only-of-type {\n",
       "        vertical-align: middle;\n",
       "    }\n",
       "\n",
       "    .dataframe tbody tr th {\n",
       "        vertical-align: top;\n",
       "    }\n",
       "\n",
       "    .dataframe thead th {\n",
       "        text-align: right;\n",
       "    }\n",
       "</style>\n",
       "<table border=\"1\" class=\"dataframe\">\n",
       "  <thead>\n",
       "    <tr style=\"text-align: right;\">\n",
       "      <th></th>\n",
       "      <th>Event</th>\n",
       "      <th>Date</th>\n",
       "      <th>Location</th>\n",
       "      <th>Fight</th>\n",
       "      <th>Fighter_A</th>\n",
       "      <th>Fighter_B</th>\n",
       "      <th>Bout</th>\n",
       "      <th>Method</th>\n",
       "      <th>Round</th>\n",
       "      <th>Time</th>\n",
       "      <th>Format</th>\n",
       "      <th>Referee</th>\n",
       "      <th>Details</th>\n",
       "      <th>Winner</th>\n",
       "      <th>Winner_Name</th>\n",
       "      <th>Event_Link</th>\n",
       "    </tr>\n",
       "  </thead>\n",
       "  <tbody>\n",
       "    <tr>\n",
       "      <th>0</th>\n",
       "      <td>UFC 297: Strickland vs. Du Plessis</td>\n",
       "      <td>2024-01-20</td>\n",
       "      <td>Toronto, Ontario, Canada</td>\n",
       "      <td>Sean Strickland vs. Dricus Du Plessis</td>\n",
       "      <td>Sean Strickland</td>\n",
       "      <td>Dricus Du Plessis</td>\n",
       "      <td>UFC Middleweight Title Bout</td>\n",
       "      <td>Decision - Split</td>\n",
       "      <td>5</td>\n",
       "      <td>5:00</td>\n",
       "      <td>5 Rnd (5-5-5-5-5)</td>\n",
       "      <td>Marc Goddard</td>\n",
       "      <td>Sal D'amato 48 - 47. Derek Cleary 47 - 48. Eri...</td>\n",
       "      <td>B</td>\n",
       "      <td>Dricus Du Plessis</td>\n",
       "      <td>http://www.ufcstats.com/event-details/bd85ca0b...</td>\n",
       "    </tr>\n",
       "    <tr>\n",
       "      <th>1</th>\n",
       "      <td>UFC 297: Strickland vs. Du Plessis</td>\n",
       "      <td>2024-01-20</td>\n",
       "      <td>Toronto, Ontario, Canada</td>\n",
       "      <td>Charles Jourdain vs. Sean Woodson</td>\n",
       "      <td>Charles Jourdain</td>\n",
       "      <td>Sean Woodson</td>\n",
       "      <td>Featherweight Bout</td>\n",
       "      <td>Decision - Split</td>\n",
       "      <td>3</td>\n",
       "      <td>5:00</td>\n",
       "      <td>3 Rnd (5-5-5)</td>\n",
       "      <td>Jerin Valel</td>\n",
       "      <td>Declan Woods 28 - 29. Patricia Vandermeer 29 -...</td>\n",
       "      <td>B</td>\n",
       "      <td>Sean Woodson</td>\n",
       "      <td>http://www.ufcstats.com/event-details/bd85ca0b...</td>\n",
       "    </tr>\n",
       "    <tr>\n",
       "      <th>2</th>\n",
       "      <td>UFC 297: Strickland vs. Du Plessis</td>\n",
       "      <td>2024-01-20</td>\n",
       "      <td>Toronto, Ontario, Canada</td>\n",
       "      <td>Malcolm Gordon vs. Jimmy Flick</td>\n",
       "      <td>Malcolm Gordon</td>\n",
       "      <td>Jimmy Flick</td>\n",
       "      <td>Flyweight Bout</td>\n",
       "      <td>Submission</td>\n",
       "      <td>2</td>\n",
       "      <td>1:17</td>\n",
       "      <td>3 Rnd (5-5-5)</td>\n",
       "      <td>Todd Ronald Anderson</td>\n",
       "      <td>Arm Triangle From Half Guard</td>\n",
       "      <td>B</td>\n",
       "      <td>Jimmy Flick</td>\n",
       "      <td>http://www.ufcstats.com/event-details/bd85ca0b...</td>\n",
       "    </tr>\n",
       "    <tr>\n",
       "      <th>3</th>\n",
       "      <td>UFC 297: Strickland vs. Du Plessis</td>\n",
       "      <td>2024-01-20</td>\n",
       "      <td>Toronto, Ontario, Canada</td>\n",
       "      <td>Jasmine Jasudavicius vs. Priscila Cachoeira</td>\n",
       "      <td>Jasmine Jasudavicius</td>\n",
       "      <td>Priscila Cachoeira</td>\n",
       "      <td>Women's Bantamweight Bout</td>\n",
       "      <td>Submission</td>\n",
       "      <td>3</td>\n",
       "      <td>4:21</td>\n",
       "      <td>3 Rnd (5-5-5)</td>\n",
       "      <td>Mathew  Rocca</td>\n",
       "      <td>Anaconda Choke On Ground</td>\n",
       "      <td>A</td>\n",
       "      <td>Jasmine Jasudavicius</td>\n",
       "      <td>http://www.ufcstats.com/event-details/bd85ca0b...</td>\n",
       "    </tr>\n",
       "    <tr>\n",
       "      <th>4</th>\n",
       "      <td>UFC 297: Strickland vs. Du Plessis</td>\n",
       "      <td>2024-01-20</td>\n",
       "      <td>Toronto, Ontario, Canada</td>\n",
       "      <td>Yohan Lainesse vs. Sam Patterson</td>\n",
       "      <td>Yohan Lainesse</td>\n",
       "      <td>Sam Patterson</td>\n",
       "      <td>Welterweight Bout</td>\n",
       "      <td>Submission</td>\n",
       "      <td>1</td>\n",
       "      <td>2:03</td>\n",
       "      <td>3 Rnd (5-5-5)</td>\n",
       "      <td>Brian Beauchamp</td>\n",
       "      <td>Rear Naked Choke</td>\n",
       "      <td>B</td>\n",
       "      <td>Sam Patterson</td>\n",
       "      <td>http://www.ufcstats.com/event-details/bd85ca0b...</td>\n",
       "    </tr>\n",
       "  </tbody>\n",
       "</table>\n",
       "</div>"
      ],
      "text/plain": [
       "                                Event        Date                  Location  \\\n",
       "0  UFC 297: Strickland vs. Du Plessis  2024-01-20  Toronto, Ontario, Canada   \n",
       "1  UFC 297: Strickland vs. Du Plessis  2024-01-20  Toronto, Ontario, Canada   \n",
       "2  UFC 297: Strickland vs. Du Plessis  2024-01-20  Toronto, Ontario, Canada   \n",
       "3  UFC 297: Strickland vs. Du Plessis  2024-01-20  Toronto, Ontario, Canada   \n",
       "4  UFC 297: Strickland vs. Du Plessis  2024-01-20  Toronto, Ontario, Canada   \n",
       "\n",
       "                                         Fight             Fighter_A  \\\n",
       "0        Sean Strickland vs. Dricus Du Plessis       Sean Strickland   \n",
       "1            Charles Jourdain vs. Sean Woodson      Charles Jourdain   \n",
       "2               Malcolm Gordon vs. Jimmy Flick        Malcolm Gordon   \n",
       "3  Jasmine Jasudavicius vs. Priscila Cachoeira  Jasmine Jasudavicius   \n",
       "4             Yohan Lainesse vs. Sam Patterson        Yohan Lainesse   \n",
       "\n",
       "            Fighter_B                         Bout            Method  Round  \\\n",
       "0   Dricus Du Plessis  UFC Middleweight Title Bout  Decision - Split      5   \n",
       "1        Sean Woodson           Featherweight Bout  Decision - Split      3   \n",
       "2         Jimmy Flick               Flyweight Bout        Submission      2   \n",
       "3  Priscila Cachoeira    Women's Bantamweight Bout        Submission      3   \n",
       "4       Sam Patterson            Welterweight Bout        Submission      1   \n",
       "\n",
       "   Time             Format               Referee  \\\n",
       "0  5:00  5 Rnd (5-5-5-5-5)          Marc Goddard   \n",
       "1  5:00      3 Rnd (5-5-5)           Jerin Valel   \n",
       "2  1:17      3 Rnd (5-5-5)  Todd Ronald Anderson   \n",
       "3  4:21      3 Rnd (5-5-5)         Mathew  Rocca   \n",
       "4  2:03      3 Rnd (5-5-5)       Brian Beauchamp   \n",
       "\n",
       "                                             Details Winner  \\\n",
       "0  Sal D'amato 48 - 47. Derek Cleary 47 - 48. Eri...      B   \n",
       "1  Declan Woods 28 - 29. Patricia Vandermeer 29 -...      B   \n",
       "2                       Arm Triangle From Half Guard      B   \n",
       "3                           Anaconda Choke On Ground      A   \n",
       "4                                   Rear Naked Choke      B   \n",
       "\n",
       "            Winner_Name                                         Event_Link  \n",
       "0     Dricus Du Plessis  http://www.ufcstats.com/event-details/bd85ca0b...  \n",
       "1          Sean Woodson  http://www.ufcstats.com/event-details/bd85ca0b...  \n",
       "2           Jimmy Flick  http://www.ufcstats.com/event-details/bd85ca0b...  \n",
       "3  Jasmine Jasudavicius  http://www.ufcstats.com/event-details/bd85ca0b...  \n",
       "4         Sam Patterson  http://www.ufcstats.com/event-details/bd85ca0b...  "
      ]
     },
     "metadata": {},
     "output_type": "display_data"
    }
   ],
   "source": [
    "print(fighters.shape)\n",
    "print(fightInformation.shape)\n",
    "print(fightRounds.shape)\n",
    "display(fightInformation.head())"
   ]
  },
  {
   "cell_type": "code",
   "execution_count": 3,
   "metadata": {},
   "outputs": [
    {
     "data": {
      "text/plain": [
       "Index(['URL', 'Division', 'Nickname', 'Name', 'Wins', 'Losses', 'Draws',\n",
       "       'Status', 'Place_of_Birth', 'Age', 'Height', 'Weight', 'Octagon_Debut',\n",
       "       'Sig_Str_Landed', 'Sig_Str_Attempted', 'Sig_Str_Landed_PM',\n",
       "       'Sig_Str_Absorbed_PM', 'Takedown_Avg_P15', 'Submission_Avg_P15',\n",
       "       'Sig_Str_Defense', 'Takedown_Defense', 'Knockdown_Avg_P15',\n",
       "       'Avg_Fight_Time', 'Standing', 'Clinch', 'Ground', 'Head', 'Body', 'Leg',\n",
       "       'KO/TKO', 'DEC', 'SUB', 'hasImage', 'Dana_White_Contender_Series',\n",
       "       'Takedowns_Landed', 'Takedowns_Attempted', 'Fighting_Style', 'Reach',\n",
       "       'Trains_at'],\n",
       "      dtype='object')"
      ]
     },
     "execution_count": 3,
     "metadata": {},
     "output_type": "execute_result"
    }
   ],
   "source": [
    "fighters.columns"
   ]
  },
  {
   "cell_type": "code",
   "execution_count": 4,
   "metadata": {},
   "outputs": [
    {
     "data": {
      "text/plain": [
       "Index(['Event', 'Date', 'Location', 'Fight', 'Fighter_A', 'Fighter_B', 'Bout',\n",
       "       'Method', 'Round', 'Time', 'Format', 'Referee', 'Details', 'Winner',\n",
       "       'Winner_Name', 'Event_Link'],\n",
       "      dtype='object')"
      ]
     },
     "execution_count": 4,
     "metadata": {},
     "output_type": "execute_result"
    }
   ],
   "source": [
    "fightInformation.columns"
   ]
  },
  {
   "cell_type": "code",
   "execution_count": 5,
   "metadata": {},
   "outputs": [
    {
     "data": {
      "text/plain": [
       "Index(['Event', 'Fight', 'Round', 'Fighter', 'KD', 'Sig_Str', 'Sig_Str_Perc',\n",
       "       'Total_Str', 'TD', 'TD_Perc', 'Sub_Att', 'Rev', 'Ctrl', 'Head', 'Body',\n",
       "       'Leg', 'Distance', 'Clinch', 'Ground'],\n",
       "      dtype='object')"
      ]
     },
     "execution_count": 5,
     "metadata": {},
     "output_type": "execute_result"
    }
   ],
   "source": [
    "fightRounds.columns"
   ]
  },
  {
   "cell_type": "code",
   "execution_count": 12,
   "metadata": {},
   "outputs": [
    {
     "data": {
      "text/plain": [
       "670"
      ]
     },
     "execution_count": 12,
     "metadata": {},
     "output_type": "execute_result"
    }
   ],
   "source": [
    "len(fightInformation['Event'].unique())"
   ]
  }
 ],
 "metadata": {
  "kernelspec": {
   "display_name": "main",
   "language": "python",
   "name": "python3"
  },
  "language_info": {
   "codemirror_mode": {
    "name": "ipython",
    "version": 3
   },
   "file_extension": ".py",
   "mimetype": "text/x-python",
   "name": "python",
   "nbconvert_exporter": "python",
   "pygments_lexer": "ipython3",
   "version": "3.11.5"
  }
 },
 "nbformat": 4,
 "nbformat_minor": 2
}
